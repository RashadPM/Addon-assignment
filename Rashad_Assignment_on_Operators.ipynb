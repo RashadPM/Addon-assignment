{
  "nbformat": 4,
  "nbformat_minor": 0,
  "metadata": {
    "colab": {
      "provenance": []
    },
    "kernelspec": {
      "name": "python3",
      "display_name": "Python 3"
    },
    "language_info": {
      "name": "python"
    }
  },
  "cells": [
    {
      "cell_type": "code",
      "execution_count": null,
      "metadata": {
        "colab": {
          "base_uri": "https://localhost:8080/",
          "height": 35
        },
        "id": "MnPwTD-6nfPe",
        "outputId": "3a2c998b-907e-4fd7-f690-478ea7f75dbe"
      },
      "outputs": [
        {
          "output_type": "execute_result",
          "data": {
            "text/plain": [
              "'Write a Python program to find the area of a circle with a given radius\\nusing the formula area = pi * r ** 2. Assume that pi is 3.14.'"
            ],
            "application/vnd.google.colaboratory.intrinsic+json": {
              "type": "string"
            }
          },
          "metadata": {},
          "execution_count": 1
        }
      ],
      "source": [
        "'''Write a Python program to find the area of a circle with a given radius\n",
        "using the formula area = pi * r ** 2. Assume that pi is 3.14.'''"
      ]
    },
    {
      "cell_type": "code",
      "source": [
        "r=int(input('Enter the radius of the circle: '))\n",
        "pi=3.14\n",
        "area=pi*r**2\n",
        "print('Area of the circle is: ', area)"
      ],
      "metadata": {
        "colab": {
          "base_uri": "https://localhost:8080/"
        },
        "id": "8Y9hMNt7nox5",
        "outputId": "e97ca02c-42e8-4e6a-d4ca-083f14b8b966"
      },
      "execution_count": null,
      "outputs": [
        {
          "output_type": "stream",
          "name": "stdout",
          "text": [
            "Enter the radius of the circle: 3\n",
            "Area of the circle is:  28.26\n"
          ]
        }
      ]
    },
    {
      "cell_type": "code",
      "source": [
        "'''Write a Python program to convert Celsius to Fahrenheit using the\n",
        "formula F = (C * 9/5) + 32.'''"
      ],
      "metadata": {
        "colab": {
          "base_uri": "https://localhost:8080/",
          "height": 35
        },
        "id": "tHUA_69spOtK",
        "outputId": "32d9e99f-7444-4a89-9948-b69b78a917e6"
      },
      "execution_count": null,
      "outputs": [
        {
          "output_type": "execute_result",
          "data": {
            "text/plain": [
              "'Write a Python program to convert Celsius to Fahrenheit using the\\nformula F = (C * 9/5) + 32.'"
            ],
            "application/vnd.google.colaboratory.intrinsic+json": {
              "type": "string"
            }
          },
          "metadata": {},
          "execution_count": 3
        }
      ]
    },
    {
      "cell_type": "code",
      "source": [
        "c=float(input('Enter the Celius: '))\n",
        "f=(c*9/5)+32\n",
        "print('The converted Fahrenheit is: ',f)"
      ],
      "metadata": {
        "colab": {
          "base_uri": "https://localhost:8080/"
        },
        "id": "-V1HPGgPpsH6",
        "outputId": "c34a21f6-f4a3-4a40-dc59-8e7f78727c9c"
      },
      "execution_count": null,
      "outputs": [
        {
          "output_type": "stream",
          "name": "stdout",
          "text": [
            "Enter the Celius: 32.4\n",
            "The converted Fahrenheit is:  90.32\n"
          ]
        }
      ]
    },
    {
      "cell_type": "code",
      "source": [
        "'''Write a Python program to find the quotient and remainder of two\n",
        "numbers using the division operator / and the modulo operator %.'''"
      ],
      "metadata": {
        "colab": {
          "base_uri": "https://localhost:8080/",
          "height": 35
        },
        "id": "dM84moJCqocN",
        "outputId": "db1598ad-ca1b-49b9-ed52-4134fedd7a3a"
      },
      "execution_count": null,
      "outputs": [
        {
          "output_type": "execute_result",
          "data": {
            "text/plain": [
              "'Write a Python program to find the quotient and remainder of two\\nnumbers using the division operator / and the modulo operator %.'"
            ],
            "application/vnd.google.colaboratory.intrinsic+json": {
              "type": "string"
            }
          },
          "metadata": {},
          "execution_count": 6
        }
      ]
    },
    {
      "cell_type": "code",
      "source": [
        "a=int(input('Enter the first number: '))\n",
        "b=int(input('Enter the second number: '))\n",
        "quotient=a/b\n",
        "reminder=a%b\n",
        "print('The qoutient of  the given number is: ',quotient)\n",
        "print('The reminder of the given number is: ',reminder)"
      ],
      "metadata": {
        "colab": {
          "base_uri": "https://localhost:8080/"
        },
        "id": "h42P0YRarBbI",
        "outputId": "c115646e-f636-4c44-bdb9-8cc1a43ba603"
      },
      "execution_count": null,
      "outputs": [
        {
          "output_type": "stream",
          "name": "stdout",
          "text": [
            "Enter the first number: 7\n",
            "Enter the second number: 3\n",
            "The qoutient of  the given number is:  2.3333333333333335\n",
            "The reminder of the given number is:  1\n"
          ]
        }
      ]
    },
    {
      "cell_type": "code",
      "source": [
        "'''Write a Python program to check whether a given number is even or odd\n",
        "using the modulo operator %.'''"
      ],
      "metadata": {
        "colab": {
          "base_uri": "https://localhost:8080/",
          "height": 35
        },
        "id": "W9ZFc99xsNiJ",
        "outputId": "e0aa5c22-d2ca-4197-d4e1-a1cccc1aa376"
      },
      "execution_count": null,
      "outputs": [
        {
          "output_type": "execute_result",
          "data": {
            "text/plain": [
              "'Write a Python program to check whether a given number is even or odd\\nusing the modulo operator %.'"
            ],
            "application/vnd.google.colaboratory.intrinsic+json": {
              "type": "string"
            }
          },
          "metadata": {},
          "execution_count": 10
        }
      ]
    },
    {
      "cell_type": "code",
      "source": [
        "num=int(input('Enter the number: '))\n",
        "if num%2==0:\n",
        "   print('The given number is even')\n",
        "else:\n",
        "   print('The given number is odd')"
      ],
      "metadata": {
        "colab": {
          "base_uri": "https://localhost:8080/"
        },
        "id": "PEZq_bTbsvED",
        "outputId": "4178c07e-03da-4d95-c5a1-8ac98b4866b9"
      },
      "execution_count": null,
      "outputs": [
        {
          "output_type": "stream",
          "name": "stdout",
          "text": [
            "Enter the number: 23\n",
            "The given number is odd\n"
          ]
        }
      ]
    },
    {
      "cell_type": "code",
      "source": [
        "'''Write a Python program to calculate the average of three numbers\n",
        "entered by the user.'''"
      ],
      "metadata": {
        "colab": {
          "base_uri": "https://localhost:8080/",
          "height": 35
        },
        "id": "MygSTQgHumqJ",
        "outputId": "ccd09a20-f4d7-47c3-9c28-23c7afa209ed"
      },
      "execution_count": null,
      "outputs": [
        {
          "output_type": "execute_result",
          "data": {
            "text/plain": [
              "'Write a Python program to calculate the average of three numbers\\nentered by the user.'"
            ],
            "application/vnd.google.colaboratory.intrinsic+json": {
              "type": "string"
            }
          },
          "metadata": {},
          "execution_count": 12
        }
      ]
    },
    {
      "cell_type": "code",
      "source": [
        "x=int(input('Enter the first number: '))\n",
        "y=int(input('Enter the second number: '))\n",
        "z=int(input('Enter the third number: '))\n",
        "avg=(x+y+z)/3\n",
        "print('The average is: ',avg)"
      ],
      "metadata": {
        "colab": {
          "base_uri": "https://localhost:8080/"
        },
        "id": "EgjJWc8Uu5HI",
        "outputId": "bcd5a3d8-ee12-40e0-81bd-b28530114012"
      },
      "execution_count": null,
      "outputs": [
        {
          "output_type": "stream",
          "name": "stdout",
          "text": [
            "Enter the first number: 2\n",
            "Enter the second number: 3\n",
            "Enter the third number: 4\n",
            "The average is:  3.0\n"
          ]
        }
      ]
    },
    {
      "cell_type": "code",
      "source": [
        "'''Write a Python program to swap two variables without using a\n",
        "temporary variable.'''"
      ],
      "metadata": {
        "id": "4QGuGYzXvn5p",
        "colab": {
          "base_uri": "https://localhost:8080/",
          "height": 36
        },
        "outputId": "36629e25-7788-442a-90b1-76e9a1a05202"
      },
      "execution_count": null,
      "outputs": [
        {
          "output_type": "execute_result",
          "data": {
            "text/plain": [
              "'Write a Python program to swap two variables without using a\\ntemporary variable.'"
            ],
            "application/vnd.google.colaboratory.intrinsic+json": {
              "type": "string"
            }
          },
          "metadata": {},
          "execution_count": 14
        }
      ]
    },
    {
      "cell_type": "code",
      "source": [
        "x=input('Enter the first variable: ')\n",
        "y=input('Enter the second variable: ')\n",
        "x,y=y,x\n",
        "print('The value of x after swapping: ',x)\n",
        "print('the value of y after swapping: ',y)"
      ],
      "metadata": {
        "colab": {
          "base_uri": "https://localhost:8080/"
        },
        "id": "ZnW2UJS571-K",
        "outputId": "cbf3e2af-e18c-42e5-8768-c75f4ac5ba11"
      },
      "execution_count": null,
      "outputs": [
        {
          "output_type": "stream",
          "name": "stdout",
          "text": [
            "Enter the first variable: 5\n",
            "Enter the second variable: 9\n",
            "The value of x after swapping:  9\n",
            "the value of y after swapping:  5\n"
          ]
        }
      ]
    },
    {
      "cell_type": "code",
      "source": [
        "'''Write a Python program to calculate the area of a rectangle with given\n",
        "length and breadth.'''"
      ],
      "metadata": {
        "colab": {
          "base_uri": "https://localhost:8080/",
          "height": 36
        },
        "id": "DkPytZZ282ht",
        "outputId": "18b82b44-4616-4077-9483-61088b635fba"
      },
      "execution_count": null,
      "outputs": [
        {
          "output_type": "execute_result",
          "data": {
            "text/plain": [
              "'Write a Python program to calculate the area of a rectangle with given\\nlength and breadth.'"
            ],
            "application/vnd.google.colaboratory.intrinsic+json": {
              "type": "string"
            }
          },
          "metadata": {},
          "execution_count": 17
        }
      ]
    },
    {
      "cell_type": "code",
      "source": [
        "l=int(input('Enter the lenght of the rectangle: '))\n",
        "b=int(input('Enter the breadth of the rectangle: '))\n",
        "area=l*b\n",
        "print('Area of the rectangle is: ',area)"
      ],
      "metadata": {
        "colab": {
          "base_uri": "https://localhost:8080/"
        },
        "id": "TjvQJ4bm9Mo7",
        "outputId": "21d81895-ccda-496e-9c0f-f5f6482a9628"
      },
      "execution_count": null,
      "outputs": [
        {
          "output_type": "stream",
          "name": "stdout",
          "text": [
            "Enter the lenght of the rectangle: 5\n",
            "Enter the breadth of the rectangle: 7\n",
            "Area of the rectangle is:  35\n"
          ]
        }
      ]
    },
    {
      "cell_type": "code",
      "source": [
        "'''Write a Python program to calculate the sum of the digits of a three-digit\n",
        "number.'''"
      ],
      "metadata": {
        "id": "cfpUyF0n-OFt",
        "colab": {
          "base_uri": "https://localhost:8080/",
          "height": 36
        },
        "outputId": "7d5dbb30-bdae-40dc-a9d7-5aab4277ab5c"
      },
      "execution_count": null,
      "outputs": [
        {
          "output_type": "execute_result",
          "data": {
            "text/plain": [
              "'Write a Python program to calculate the sum of the digits of a three-digit \\nnumber.'"
            ],
            "application/vnd.google.colaboratory.intrinsic+json": {
              "type": "string"
            }
          },
          "metadata": {},
          "execution_count": 1
        }
      ]
    },
    {
      "cell_type": "code",
      "source": [
        "num=int(input('Enter the 3 digit number: '))\n",
        "sum=num//100+(num%100)//10+num%10\n",
        "print('The sum of thed digits of the number is: ',sum)"
      ],
      "metadata": {
        "colab": {
          "base_uri": "https://localhost:8080/"
        },
        "id": "WLTHSPGb5o6j",
        "outputId": "4e01ebb6-961a-49fb-dccb-f36cad98b212"
      },
      "execution_count": null,
      "outputs": [
        {
          "output_type": "stream",
          "name": "stdout",
          "text": [
            "Enter the 3 digit number: 123\n",
            "The sum of thed digits of the number is:  6\n"
          ]
        }
      ]
    },
    {
      "cell_type": "code",
      "source": [
        "'''Write a Python program to check whether a given year is a leap year or\n",
        "not.,,,"
      ],
      "metadata": {
        "colab": {
          "base_uri": "https://localhost:8080/",
          "height": 36
        },
        "id": "1k347sbB7Vtc",
        "outputId": "2b01b9d2-16ab-4b82-9454-94ed6dd7f480"
      },
      "execution_count": null,
      "outputs": [
        {
          "output_type": "execute_result",
          "data": {
            "text/plain": [
              "'Write a Python program to calculate the sum of the digits of a three-digit \\nnumber'"
            ],
            "application/vnd.google.colaboratory.intrinsic+json": {
              "type": "string"
            }
          },
          "metadata": {},
          "execution_count": 5
        }
      ]
    },
    {
      "cell_type": "code",
      "source": [
        "year=int(input('Enter the year: '))\n",
        "if year%4==0:\n",
        "  if year%100==0:\n",
        "    if year%400==0:\n",
        "      print('The year is a leap year')\n",
        "    else:\n",
        "      print('The year is not a leap year')\n",
        "  else:\n",
        "    print('The year is a leap year')\n",
        "else:\n",
        "  print('The year is not a leap year')"
      ],
      "metadata": {
        "colab": {
          "base_uri": "https://localhost:8080/"
        },
        "id": "ddJAODG77sZx",
        "outputId": "50320521-2367-4fe8-d741-7ac84f7dd41a"
      },
      "execution_count": null,
      "outputs": [
        {
          "output_type": "stream",
          "name": "stdout",
          "text": [
            "Enter the year: 2020\n",
            "The year is a leap year\n"
          ]
        }
      ]
    },
    {
      "cell_type": "code",
      "source": [
        "'''Write a Python program to find the maximum and minimum of two\n",
        "numbers entered by the user.'''"
      ],
      "metadata": {
        "colab": {
          "base_uri": "https://localhost:8080/",
          "height": 36
        },
        "id": "ypnUg8Qr9Lec",
        "outputId": "8780692e-677a-44e1-a138-5105e2798e57"
      },
      "execution_count": null,
      "outputs": [
        {
          "output_type": "execute_result",
          "data": {
            "text/plain": [
              "'Write a Python program to find the maximum and minimum of two \\nnumbers entered by the user.'"
            ],
            "application/vnd.google.colaboratory.intrinsic+json": {
              "type": "string"
            }
          },
          "metadata": {},
          "execution_count": 14
        }
      ]
    },
    {
      "cell_type": "code",
      "source": [
        "a=float(input('Enter the first number: '))\n",
        "b=float(input('Enter the second number: '))\n",
        "if a>b:\n",
        "  max=a\n",
        "else:\n",
        "  max=b\n",
        "if a<b:\n",
        "  min=a\n",
        "else:\n",
        "  min=b\n",
        "print('The maximum of two number is: ',max)\n",
        "print('The minimum of two number is: ',min)"
      ],
      "metadata": {
        "colab": {
          "base_uri": "https://localhost:8080/"
        },
        "id": "5_ZK3XTo-mh-",
        "outputId": "bca01b11-51bd-43da-be1f-6caa7f6ef371"
      },
      "execution_count": null,
      "outputs": [
        {
          "output_type": "stream",
          "name": "stdout",
          "text": [
            "Enter the first number: 45\n",
            "Enter the second number: 87\n",
            "The maximum of two number is:  87.0\n",
            "The minimum of two number is:  45.0\n"
          ]
        }
      ]
    }
  ]
}